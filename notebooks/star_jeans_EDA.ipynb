{
 "cells": [
  {
   "cell_type": "markdown",
   "id": "a88fd76e",
   "metadata": {},
   "source": [
    "# 0.0 IMPORTS"
   ]
  },
  {
   "cell_type": "code",
   "execution_count": 1,
   "id": "e38dce14",
   "metadata": {},
   "outputs": [],
   "source": [
    "import math\n",
    "import datetime\n",
    "import numpy as np\n",
    "import pandas as pd\n",
    "import inflection\n",
    "import seaborn as sns\n",
    "import  matplotlib \n",
    "import  matplotlib.pyplot as plt\n",
    "import sqlite3\n",
    "import sqlalchemy\n",
    "\n",
    "from scipy                          import stats as ss\n",
    "from tabulate                       import tabulate\n",
    "from IPython.display                import Image\n",
    "from IPython.core.display           import HTML\n",
    "from  matplotlib.gridspec           import GridSpec\n",
    "from sqlalchemy                     import create_engine"
   ]
  },
  {
   "cell_type": "markdown",
   "id": "bbda51fc",
   "metadata": {},
   "source": [
    "## 0.1 Helper Functions"
   ]
  },
  {
   "cell_type": "code",
   "execution_count": null,
   "id": "c1a92d1e",
   "metadata": {},
   "outputs": [],
   "source": [
    "def jupyter_settings():\n",
    "    %matplotlib inline\n",
    "    %pylab inline\n",
    "    plt.style.use( 'bmh' )\n",
    "    plt.rcParams['figure.figsize'] = [25, 12]\n",
    "    plt.rcParams['font.size'] = 24\n",
    "    display( HTML( '<style>.container { width:100% !important; }</style>') )\n",
    "    pd.options.display.max_columns = None\n",
    "    pd.options.display.max_rows = None\n",
    "    pd.set_option( 'display.expand_frame_repr', False )\n",
    "    sns.set()"
   ]
  },
  {
   "cell_type": "code",
   "execution_count": null,
   "id": "8eda0fc4",
   "metadata": {},
   "outputs": [],
   "source": [
    "jupyter_settings()"
   ]
  },
  {
   "cell_type": "code",
   "execution_count": null,
   "id": "dd3cd09f",
   "metadata": {},
   "outputs": [],
   "source": [
    "# Notação Científica\n",
    "np.set_printoptions(suppress=True)\n",
    "pd.set_option('display.float_format', '{:.2f}'.format)"
   ]
  },
  {
   "cell_type": "markdown",
   "id": "52f6b02d",
   "metadata": {},
   "source": [
    "## LOADING DATA"
   ]
  },
  {
   "cell_type": "code",
   "execution_count": 2,
   "id": "5d6dbe74",
   "metadata": {},
   "outputs": [
    {
     "data": {
      "text/plain": [
       "'C:\\\\Users\\\\Utilizador\\\\repos\\\\Python_ds_ao_dev\\\\Projeto_Star_Jeans'"
      ]
     },
     "execution_count": 2,
     "metadata": {},
     "output_type": "execute_result"
    }
   ],
   "source": [
    "pwd"
   ]
  },
  {
   "cell_type": "code",
   "execution_count": 3,
   "id": "e881e091",
   "metadata": {},
   "outputs": [],
   "source": [
    "path = 'C:\\\\Users\\\\Utilizador\\\\repos\\\\Python_ds_ao_dev\\\\Projeto_Star_Jeans\\\\'\n",
    "database_name= 'data_base_hm.sqlite'\n",
    "conn = create_engine('sqlite:///' + path + database_name, echo=False)"
   ]
  },
  {
   "cell_type": "code",
   "execution_count": 4,
   "id": "51ceea19",
   "metadata": {},
   "outputs": [],
   "source": [
    "query = \"\"\"\n",
    "    SELECT * FROM vitrine_two\n",
    "\"\"\""
   ]
  },
  {
   "cell_type": "code",
   "execution_count": 6,
   "id": "3c9f7af3",
   "metadata": {},
   "outputs": [
    {
     "data": {
      "text/html": [
       "<div>\n",
       "<style scoped>\n",
       "    .dataframe tbody tr th:only-of-type {\n",
       "        vertical-align: middle;\n",
       "    }\n",
       "\n",
       "    .dataframe tbody tr th {\n",
       "        vertical-align: top;\n",
       "    }\n",
       "\n",
       "    .dataframe thead th {\n",
       "        text-align: right;\n",
       "    }\n",
       "</style>\n",
       "<table border=\"1\" class=\"dataframe\">\n",
       "  <thead>\n",
       "    <tr style=\"text-align: right;\">\n",
       "      <th></th>\n",
       "      <th>product_id</th>\n",
       "      <th>style_id</th>\n",
       "      <th>color_id</th>\n",
       "      <th>product_name</th>\n",
       "      <th>color_name</th>\n",
       "      <th>product_type</th>\n",
       "      <th>Fit</th>\n",
       "      <th>product_price</th>\n",
       "      <th>messages.waistRise</th>\n",
       "      <th>shell_cotton</th>\n",
       "      <th>shell_polyester</th>\n",
       "      <th>shell_spandex</th>\n",
       "      <th>scrapy_datetime</th>\n",
       "    </tr>\n",
       "  </thead>\n",
       "  <tbody>\n",
       "    <tr>\n",
       "      <th>0</th>\n",
       "      <td>0875105024</td>\n",
       "      <td>0875105</td>\n",
       "      <td>024</td>\n",
       "      <td>men_jeans_relaxed</td>\n",
       "      <td>denim_blue</td>\n",
       "      <td>relaxed_jeans</td>\n",
       "      <td>relaxed_fit</td>\n",
       "      <td>29.99</td>\n",
       "      <td>regular_waist</td>\n",
       "      <td>1.00</td>\n",
       "      <td>NaN</td>\n",
       "      <td>NaN</td>\n",
       "      <td>2022-06-17 10:35:02.000000</td>\n",
       "    </tr>\n",
       "    <tr>\n",
       "      <th>1</th>\n",
       "      <td>0875105024</td>\n",
       "      <td>0875105</td>\n",
       "      <td>024</td>\n",
       "      <td>men_jeans_relaxed</td>\n",
       "      <td>dark_denim_blue</td>\n",
       "      <td>relaxed_jeans</td>\n",
       "      <td>relaxed_fit</td>\n",
       "      <td>29.99</td>\n",
       "      <td>regular_waist</td>\n",
       "      <td>1.00</td>\n",
       "      <td>NaN</td>\n",
       "      <td>NaN</td>\n",
       "      <td>2022-06-17 10:35:02.000000</td>\n",
       "    </tr>\n",
       "    <tr>\n",
       "      <th>2</th>\n",
       "      <td>0875105024</td>\n",
       "      <td>0875105</td>\n",
       "      <td>024</td>\n",
       "      <td>men_jeans_relaxed</td>\n",
       "      <td>pale_denim_blue</td>\n",
       "      <td>relaxed_jeans</td>\n",
       "      <td>relaxed_fit</td>\n",
       "      <td>29.99</td>\n",
       "      <td>regular_waist</td>\n",
       "      <td>1.00</td>\n",
       "      <td>NaN</td>\n",
       "      <td>NaN</td>\n",
       "      <td>2022-06-17 10:35:02.000000</td>\n",
       "    </tr>\n",
       "    <tr>\n",
       "      <th>3</th>\n",
       "      <td>0875105024</td>\n",
       "      <td>0875105</td>\n",
       "      <td>024</td>\n",
       "      <td>men_jeans_relaxed</td>\n",
       "      <td>black</td>\n",
       "      <td>relaxed_jeans</td>\n",
       "      <td>relaxed_fit</td>\n",
       "      <td>29.99</td>\n",
       "      <td>regular_waist</td>\n",
       "      <td>1.00</td>\n",
       "      <td>NaN</td>\n",
       "      <td>NaN</td>\n",
       "      <td>2022-06-17 10:35:02.000000</td>\n",
       "    </tr>\n",
       "    <tr>\n",
       "      <th>4</th>\n",
       "      <td>0875105024</td>\n",
       "      <td>0875105</td>\n",
       "      <td>024</td>\n",
       "      <td>men_jeans_relaxed</td>\n",
       "      <td>light_denim_blue</td>\n",
       "      <td>relaxed_jeans</td>\n",
       "      <td>relaxed_fit</td>\n",
       "      <td>29.99</td>\n",
       "      <td>regular_waist</td>\n",
       "      <td>1.00</td>\n",
       "      <td>NaN</td>\n",
       "      <td>NaN</td>\n",
       "      <td>2022-06-17 10:35:02.000000</td>\n",
       "    </tr>\n",
       "    <tr>\n",
       "      <th>...</th>\n",
       "      <td>...</td>\n",
       "      <td>...</td>\n",
       "      <td>...</td>\n",
       "      <td>...</td>\n",
       "      <td>...</td>\n",
       "      <td>...</td>\n",
       "      <td>...</td>\n",
       "      <td>...</td>\n",
       "      <td>...</td>\n",
       "      <td>...</td>\n",
       "      <td>...</td>\n",
       "      <td>...</td>\n",
       "      <td>...</td>\n",
       "    </tr>\n",
       "    <tr>\n",
       "      <th>107</th>\n",
       "      <td>0427159006</td>\n",
       "      <td>0427159</td>\n",
       "      <td>006</td>\n",
       "      <td>men_jeans_ripped</td>\n",
       "      <td>super_light_denim_blue</td>\n",
       "      <td>trashed_skinny_jeans</td>\n",
       "      <td>skinny_fit</td>\n",
       "      <td>39.99</td>\n",
       "      <td>regular_waist</td>\n",
       "      <td>0.93</td>\n",
       "      <td>0.06</td>\n",
       "      <td>0.01</td>\n",
       "      <td>2022-06-17 10:35:02.000000</td>\n",
       "    </tr>\n",
       "    <tr>\n",
       "      <th>108</th>\n",
       "      <td>0427159006</td>\n",
       "      <td>0427159</td>\n",
       "      <td>006</td>\n",
       "      <td>men_jeans_ripped</td>\n",
       "      <td>black_trashed</td>\n",
       "      <td>trashed_skinny_jeans</td>\n",
       "      <td>skinny_fit</td>\n",
       "      <td>39.99</td>\n",
       "      <td>regular_waist</td>\n",
       "      <td>0.93</td>\n",
       "      <td>0.06</td>\n",
       "      <td>0.01</td>\n",
       "      <td>2022-06-17 10:35:02.000000</td>\n",
       "    </tr>\n",
       "    <tr>\n",
       "      <th>109</th>\n",
       "      <td>0427159006</td>\n",
       "      <td>0427159</td>\n",
       "      <td>006</td>\n",
       "      <td>men_jeans_ripped</td>\n",
       "      <td>light_denim_blue</td>\n",
       "      <td>trashed_skinny_jeans</td>\n",
       "      <td>skinny_fit</td>\n",
       "      <td>39.99</td>\n",
       "      <td>regular_waist</td>\n",
       "      <td>0.93</td>\n",
       "      <td>0.06</td>\n",
       "      <td>0.01</td>\n",
       "      <td>2022-06-17 10:35:02.000000</td>\n",
       "    </tr>\n",
       "    <tr>\n",
       "      <th>110</th>\n",
       "      <td>0427159006</td>\n",
       "      <td>0427159</td>\n",
       "      <td>006</td>\n",
       "      <td>men_jeans_ripped</td>\n",
       "      <td>denim_blue_bleached</td>\n",
       "      <td>trashed_skinny_jeans</td>\n",
       "      <td>skinny_fit</td>\n",
       "      <td>39.99</td>\n",
       "      <td>regular_waist</td>\n",
       "      <td>0.93</td>\n",
       "      <td>0.06</td>\n",
       "      <td>0.01</td>\n",
       "      <td>2022-06-17 10:35:02.000000</td>\n",
       "    </tr>\n",
       "    <tr>\n",
       "      <th>111</th>\n",
       "      <td>0427159006</td>\n",
       "      <td>0427159</td>\n",
       "      <td>006</td>\n",
       "      <td>men_jeans_ripped</td>\n",
       "      <td>black_bleached</td>\n",
       "      <td>trashed_skinny_jeans</td>\n",
       "      <td>skinny_fit</td>\n",
       "      <td>39.99</td>\n",
       "      <td>regular_waist</td>\n",
       "      <td>0.93</td>\n",
       "      <td>0.06</td>\n",
       "      <td>0.01</td>\n",
       "      <td>2022-06-17 10:35:02.000000</td>\n",
       "    </tr>\n",
       "  </tbody>\n",
       "</table>\n",
       "<p>112 rows × 13 columns</p>\n",
       "</div>"
      ],
      "text/plain": [
       "     product_id style_id color_id       product_name              color_name  \\\n",
       "0    0875105024  0875105      024  men_jeans_relaxed              denim_blue   \n",
       "1    0875105024  0875105      024  men_jeans_relaxed         dark_denim_blue   \n",
       "2    0875105024  0875105      024  men_jeans_relaxed         pale_denim_blue   \n",
       "3    0875105024  0875105      024  men_jeans_relaxed                   black   \n",
       "4    0875105024  0875105      024  men_jeans_relaxed        light_denim_blue   \n",
       "..          ...      ...      ...                ...                     ...   \n",
       "107  0427159006  0427159      006   men_jeans_ripped  super_light_denim_blue   \n",
       "108  0427159006  0427159      006   men_jeans_ripped           black_trashed   \n",
       "109  0427159006  0427159      006   men_jeans_ripped        light_denim_blue   \n",
       "110  0427159006  0427159      006   men_jeans_ripped     denim_blue_bleached   \n",
       "111  0427159006  0427159      006   men_jeans_ripped          black_bleached   \n",
       "\n",
       "             product_type          Fit  product_price messages.waistRise  \\\n",
       "0           relaxed_jeans  relaxed_fit          29.99      regular_waist   \n",
       "1           relaxed_jeans  relaxed_fit          29.99      regular_waist   \n",
       "2           relaxed_jeans  relaxed_fit          29.99      regular_waist   \n",
       "3           relaxed_jeans  relaxed_fit          29.99      regular_waist   \n",
       "4           relaxed_jeans  relaxed_fit          29.99      regular_waist   \n",
       "..                    ...          ...            ...                ...   \n",
       "107  trashed_skinny_jeans   skinny_fit          39.99      regular_waist   \n",
       "108  trashed_skinny_jeans   skinny_fit          39.99      regular_waist   \n",
       "109  trashed_skinny_jeans   skinny_fit          39.99      regular_waist   \n",
       "110  trashed_skinny_jeans   skinny_fit          39.99      regular_waist   \n",
       "111  trashed_skinny_jeans   skinny_fit          39.99      regular_waist   \n",
       "\n",
       "     shell_cotton  shell_polyester  shell_spandex             scrapy_datetime  \n",
       "0            1.00              NaN            NaN  2022-06-17 10:35:02.000000  \n",
       "1            1.00              NaN            NaN  2022-06-17 10:35:02.000000  \n",
       "2            1.00              NaN            NaN  2022-06-17 10:35:02.000000  \n",
       "3            1.00              NaN            NaN  2022-06-17 10:35:02.000000  \n",
       "4            1.00              NaN            NaN  2022-06-17 10:35:02.000000  \n",
       "..            ...              ...            ...                         ...  \n",
       "107          0.93             0.06           0.01  2022-06-17 10:35:02.000000  \n",
       "108          0.93             0.06           0.01  2022-06-17 10:35:02.000000  \n",
       "109          0.93             0.06           0.01  2022-06-17 10:35:02.000000  \n",
       "110          0.93             0.06           0.01  2022-06-17 10:35:02.000000  \n",
       "111          0.93             0.06           0.01  2022-06-17 10:35:02.000000  \n",
       "\n",
       "[112 rows x 13 columns]"
      ]
     },
     "execution_count": 6,
     "metadata": {},
     "output_type": "execute_result"
    }
   ],
   "source": [
    "data = pd.read_sql(query, con=conn)\n",
    "data"
   ]
  },
  {
   "cell_type": "markdown",
   "id": "1ca554f0",
   "metadata": {},
   "source": [
    "# 1.0 DATA CLEANING"
   ]
  },
  {
   "cell_type": "markdown",
   "id": "c4cd0231",
   "metadata": {},
   "source": [
    "## Data Description"
   ]
  },
  {
   "cell_type": "code",
   "execution_count": 7,
   "id": "0187527b",
   "metadata": {},
   "outputs": [],
   "source": [
    "df1 = data.copy()"
   ]
  },
  {
   "cell_type": "code",
   "execution_count": 8,
   "id": "9f45de53",
   "metadata": {},
   "outputs": [
    {
     "data": {
      "text/plain": [
       "Index(['product_id', 'style_id', 'color_id', 'product_name', 'color_name',\n",
       "       'product_type', 'Fit', 'product_price', 'messages.waistRise',\n",
       "       'shell_cotton', 'shell_polyester', 'shell_spandex', 'scrapy_datetime'],\n",
       "      dtype='object')"
      ]
     },
     "execution_count": 8,
     "metadata": {},
     "output_type": "execute_result"
    }
   ],
   "source": [
    "df1.columns"
   ]
  },
  {
   "cell_type": "markdown",
   "id": "d52ead1d",
   "metadata": {},
   "source": [
    "## 1.1 Rename Columns"
   ]
  },
  {
   "cell_type": "code",
   "execution_count": 9,
   "id": "78a9f05f",
   "metadata": {},
   "outputs": [
    {
     "data": {
      "text/plain": [
       "Index(['product_id', 'syle_id', 'color_id', 'product_name', 'color_name',\n",
       "       'product_type', 'fit', 'product_price', 'messages.waist_rise',\n",
       "       'shell_cotton', 'shell_polyester', 'shell_spandex', 'scrapy_datetime'],\n",
       "      dtype='object')"
      ]
     },
     "execution_count": 9,
     "metadata": {},
     "output_type": "execute_result"
    }
   ],
   "source": [
    "cols_old = ['product_id', \n",
    "            'syle_id', \n",
    "            'color_id', \n",
    "            'product_name', \n",
    "            'color_name', \n",
    "            'product_type', \n",
    "            'Fit',\n",
    "            'product_price', \n",
    "            'messages.waistRise', \n",
    "            'shell_cotton',\n",
    "            'shell_polyester',\n",
    "            'shell_spandex',\n",
    "            'scrapy_datetime']\n",
    "\n",
    "snakecase = lambda x: inflection.underscore(x)\n",
    "\n",
    "cols_new = list(map(snakecase, cols_old))\n",
    "\n",
    "# Rename\n",
    "df1.columns = cols_new\n",
    "df1.columns"
   ]
  },
  {
   "cell_type": "markdown",
   "id": "cee5bee7",
   "metadata": {},
   "source": [
    "## 1.2 Data Dimensions"
   ]
  },
  {
   "cell_type": "code",
   "execution_count": 10,
   "id": "85af8915",
   "metadata": {},
   "outputs": [
    {
     "name": "stdout",
     "output_type": "stream",
     "text": [
      "Number of Rows: 112\n",
      "Number of Cols: 13\n"
     ]
    }
   ],
   "source": [
    "print('Number of Rows: {}'.format(df1.shape[0]))\n",
    "print('Number of Cols: {}'.format(df1.shape[1]))"
   ]
  },
  {
   "cell_type": "markdown",
   "id": "87dc11b8",
   "metadata": {},
   "source": [
    "## 1.3 Data Types"
   ]
  },
  {
   "cell_type": "code",
   "execution_count": 11,
   "id": "a55ead99",
   "metadata": {},
   "outputs": [
    {
     "data": {
      "text/plain": [
       "product_id              object\n",
       "syle_id                 object\n",
       "color_id                object\n",
       "product_name            object\n",
       "color_name              object\n",
       "product_type            object\n",
       "fit                     object\n",
       "product_price          float64\n",
       "messages.waist_rise     object\n",
       "shell_cotton           float64\n",
       "shell_polyester        float64\n",
       "shell_spandex          float64\n",
       "scrapy_datetime         object\n",
       "dtype: object"
      ]
     },
     "execution_count": 11,
     "metadata": {},
     "output_type": "execute_result"
    }
   ],
   "source": [
    "df1.dtypes"
   ]
  },
  {
   "cell_type": "code",
   "execution_count": 12,
   "id": "e815a327",
   "metadata": {},
   "outputs": [],
   "source": [
    "df1['scrapy_datetime'] = pd.to_datetime(df1['scrapy_datetime'])"
   ]
  },
  {
   "cell_type": "markdown",
   "id": "87e0be56",
   "metadata": {},
   "source": [
    "## 1.4 Check NA"
   ]
  },
  {
   "cell_type": "code",
   "execution_count": 13,
   "id": "2ef033e9",
   "metadata": {},
   "outputs": [
    {
     "data": {
      "text/plain": [
       "product_id              0\n",
       "syle_id                 0\n",
       "color_id                0\n",
       "product_name            0\n",
       "color_name              0\n",
       "product_type            0\n",
       "fit                     0\n",
       "product_price           0\n",
       "messages.waist_rise     0\n",
       "shell_cotton            0\n",
       "shell_polyester        12\n",
       "shell_spandex          95\n",
       "scrapy_datetime         0\n",
       "dtype: int64"
      ]
     },
     "execution_count": 13,
     "metadata": {},
     "output_type": "execute_result"
    }
   ],
   "source": [
    "df1.isna().sum()"
   ]
  },
  {
   "cell_type": "markdown",
   "id": "1d171bac",
   "metadata": {},
   "source": [
    "## 1.5 Fillout NA"
   ]
  },
  {
   "cell_type": "code",
   "execution_count": 14,
   "id": "3cd2d496",
   "metadata": {},
   "outputs": [],
   "source": [
    "df1['shell_spandex'] = df1['shell_spandex'].apply(lambda x: 0.0 if math.isnan(x) else x)\n",
    "df1['shell_polyester'] = df1['shell_polyester'].apply(lambda x: 0.0 if math.isnan(x) else x)"
   ]
  },
  {
   "cell_type": "code",
   "execution_count": 15,
   "id": "3bf91df1",
   "metadata": {},
   "outputs": [
    {
     "data": {
      "text/plain": [
       "product_id             0.0\n",
       "syle_id                0.0\n",
       "color_id               0.0\n",
       "product_name           0.0\n",
       "color_name             0.0\n",
       "product_type           0.0\n",
       "fit                    0.0\n",
       "product_price          0.0\n",
       "messages.waist_rise    0.0\n",
       "shell_cotton           0.0\n",
       "shell_polyester        0.0\n",
       "shell_spandex          0.0\n",
       "scrapy_datetime        0.0\n",
       "dtype: float64"
      ]
     },
     "execution_count": 15,
     "metadata": {},
     "output_type": "execute_result"
    }
   ],
   "source": [
    "# Checando se eliminamos os NA\n",
    "df1.isna().sum() / df1.shape[0]"
   ]
  },
  {
   "cell_type": "markdown",
   "id": "d9fd32ad",
   "metadata": {},
   "source": [
    "## 1.6 Change Types "
   ]
  },
  {
   "cell_type": "code",
   "execution_count": 16,
   "id": "282e7ef4",
   "metadata": {},
   "outputs": [
    {
     "data": {
      "text/plain": [
       "product_id                     object\n",
       "syle_id                        object\n",
       "color_id                       object\n",
       "product_name                   object\n",
       "color_name                     object\n",
       "product_type                   object\n",
       "fit                            object\n",
       "product_price                 float64\n",
       "messages.waist_rise            object\n",
       "shell_cotton                  float64\n",
       "shell_polyester               float64\n",
       "shell_spandex                 float64\n",
       "scrapy_datetime        datetime64[ns]\n",
       "dtype: object"
      ]
     },
     "execution_count": 16,
     "metadata": {},
     "output_type": "execute_result"
    }
   ],
   "source": [
    "# Após tranformações devemos checar novamente os tipos das colunas\n",
    "df1.dtypes"
   ]
  },
  {
   "cell_type": "markdown",
   "id": "66d83a68",
   "metadata": {},
   "source": [
    "## 1.7 Descriptive Statistical"
   ]
  },
  {
   "cell_type": "code",
   "execution_count": 17,
   "id": "4de86715",
   "metadata": {},
   "outputs": [
    {
     "data": {
      "text/html": [
       "<div>\n",
       "<style scoped>\n",
       "    .dataframe tbody tr th:only-of-type {\n",
       "        vertical-align: middle;\n",
       "    }\n",
       "\n",
       "    .dataframe tbody tr th {\n",
       "        vertical-align: top;\n",
       "    }\n",
       "\n",
       "    .dataframe thead th {\n",
       "        text-align: right;\n",
       "    }\n",
       "</style>\n",
       "<table border=\"1\" class=\"dataframe\">\n",
       "  <thead>\n",
       "    <tr style=\"text-align: right;\">\n",
       "      <th></th>\n",
       "      <th>product_price</th>\n",
       "      <th>shell_cotton</th>\n",
       "      <th>shell_polyester</th>\n",
       "      <th>shell_spandex</th>\n",
       "    </tr>\n",
       "  </thead>\n",
       "  <tbody>\n",
       "    <tr>\n",
       "      <th>0</th>\n",
       "      <td>29.99</td>\n",
       "      <td>1.00</td>\n",
       "      <td>0.00</td>\n",
       "      <td>0.00</td>\n",
       "    </tr>\n",
       "    <tr>\n",
       "      <th>1</th>\n",
       "      <td>29.99</td>\n",
       "      <td>1.00</td>\n",
       "      <td>0.00</td>\n",
       "      <td>0.00</td>\n",
       "    </tr>\n",
       "    <tr>\n",
       "      <th>2</th>\n",
       "      <td>29.99</td>\n",
       "      <td>1.00</td>\n",
       "      <td>0.00</td>\n",
       "      <td>0.00</td>\n",
       "    </tr>\n",
       "    <tr>\n",
       "      <th>3</th>\n",
       "      <td>29.99</td>\n",
       "      <td>1.00</td>\n",
       "      <td>0.00</td>\n",
       "      <td>0.00</td>\n",
       "    </tr>\n",
       "    <tr>\n",
       "      <th>4</th>\n",
       "      <td>29.99</td>\n",
       "      <td>1.00</td>\n",
       "      <td>0.00</td>\n",
       "      <td>0.00</td>\n",
       "    </tr>\n",
       "    <tr>\n",
       "      <th>...</th>\n",
       "      <td>...</td>\n",
       "      <td>...</td>\n",
       "      <td>...</td>\n",
       "      <td>...</td>\n",
       "    </tr>\n",
       "    <tr>\n",
       "      <th>107</th>\n",
       "      <td>39.99</td>\n",
       "      <td>0.93</td>\n",
       "      <td>0.06</td>\n",
       "      <td>0.01</td>\n",
       "    </tr>\n",
       "    <tr>\n",
       "      <th>108</th>\n",
       "      <td>39.99</td>\n",
       "      <td>0.93</td>\n",
       "      <td>0.06</td>\n",
       "      <td>0.01</td>\n",
       "    </tr>\n",
       "    <tr>\n",
       "      <th>109</th>\n",
       "      <td>39.99</td>\n",
       "      <td>0.93</td>\n",
       "      <td>0.06</td>\n",
       "      <td>0.01</td>\n",
       "    </tr>\n",
       "    <tr>\n",
       "      <th>110</th>\n",
       "      <td>39.99</td>\n",
       "      <td>0.93</td>\n",
       "      <td>0.06</td>\n",
       "      <td>0.01</td>\n",
       "    </tr>\n",
       "    <tr>\n",
       "      <th>111</th>\n",
       "      <td>39.99</td>\n",
       "      <td>0.93</td>\n",
       "      <td>0.06</td>\n",
       "      <td>0.01</td>\n",
       "    </tr>\n",
       "  </tbody>\n",
       "</table>\n",
       "<p>112 rows × 4 columns</p>\n",
       "</div>"
      ],
      "text/plain": [
       "     product_price  shell_cotton  shell_polyester  shell_spandex\n",
       "0            29.99          1.00             0.00           0.00\n",
       "1            29.99          1.00             0.00           0.00\n",
       "2            29.99          1.00             0.00           0.00\n",
       "3            29.99          1.00             0.00           0.00\n",
       "4            29.99          1.00             0.00           0.00\n",
       "..             ...           ...              ...            ...\n",
       "107          39.99          0.93             0.06           0.01\n",
       "108          39.99          0.93             0.06           0.01\n",
       "109          39.99          0.93             0.06           0.01\n",
       "110          39.99          0.93             0.06           0.01\n",
       "111          39.99          0.93             0.06           0.01\n",
       "\n",
       "[112 rows x 4 columns]"
      ]
     },
     "execution_count": 17,
     "metadata": {},
     "output_type": "execute_result"
    }
   ],
   "source": [
    "num_attributes = df1.select_dtypes(include=['int64','float64' ])\n",
    "num_attributes"
   ]
  },
  {
   "cell_type": "code",
   "execution_count": 18,
   "id": "23914729",
   "metadata": {},
   "outputs": [
    {
     "data": {
      "text/html": [
       "<div>\n",
       "<style scoped>\n",
       "    .dataframe tbody tr th:only-of-type {\n",
       "        vertical-align: middle;\n",
       "    }\n",
       "\n",
       "    .dataframe tbody tr th {\n",
       "        vertical-align: top;\n",
       "    }\n",
       "\n",
       "    .dataframe thead th {\n",
       "        text-align: right;\n",
       "    }\n",
       "</style>\n",
       "<table border=\"1\" class=\"dataframe\">\n",
       "  <thead>\n",
       "    <tr style=\"text-align: right;\">\n",
       "      <th></th>\n",
       "      <th>product_price</th>\n",
       "      <th>shell_cotton</th>\n",
       "      <th>shell_polyester</th>\n",
       "      <th>shell_spandex</th>\n",
       "    </tr>\n",
       "  </thead>\n",
       "  <tbody>\n",
       "    <tr>\n",
       "      <th>69</th>\n",
       "      <td>39.99</td>\n",
       "      <td>0.98</td>\n",
       "      <td>0.02</td>\n",
       "      <td>0.0</td>\n",
       "    </tr>\n",
       "    <tr>\n",
       "      <th>1</th>\n",
       "      <td>29.99</td>\n",
       "      <td>1.00</td>\n",
       "      <td>0.00</td>\n",
       "      <td>0.0</td>\n",
       "    </tr>\n",
       "  </tbody>\n",
       "</table>\n",
       "</div>"
      ],
      "text/plain": [
       "    product_price  shell_cotton  shell_polyester  shell_spandex\n",
       "69          39.99          0.98             0.02            0.0\n",
       "1           29.99          1.00             0.00            0.0"
      ]
     },
     "execution_count": 18,
     "metadata": {},
     "output_type": "execute_result"
    }
   ],
   "source": [
    "num_attributes.sample(2)"
   ]
  },
  {
   "cell_type": "code",
   "execution_count": 19,
   "id": "4ed2c316",
   "metadata": {},
   "outputs": [
    {
     "data": {
      "text/html": [
       "<div>\n",
       "<style scoped>\n",
       "    .dataframe tbody tr th:only-of-type {\n",
       "        vertical-align: middle;\n",
       "    }\n",
       "\n",
       "    .dataframe tbody tr th {\n",
       "        vertical-align: top;\n",
       "    }\n",
       "\n",
       "    .dataframe thead th {\n",
       "        text-align: right;\n",
       "    }\n",
       "</style>\n",
       "<table border=\"1\" class=\"dataframe\">\n",
       "  <thead>\n",
       "    <tr style=\"text-align: right;\">\n",
       "      <th></th>\n",
       "      <th>product_id</th>\n",
       "      <th>syle_id</th>\n",
       "      <th>color_id</th>\n",
       "      <th>product_name</th>\n",
       "      <th>color_name</th>\n",
       "      <th>product_type</th>\n",
       "      <th>fit</th>\n",
       "      <th>messages.waist_rise</th>\n",
       "    </tr>\n",
       "  </thead>\n",
       "  <tbody>\n",
       "    <tr>\n",
       "      <th>0</th>\n",
       "      <td>0875105024</td>\n",
       "      <td>0875105</td>\n",
       "      <td>024</td>\n",
       "      <td>men_jeans_relaxed</td>\n",
       "      <td>denim_blue</td>\n",
       "      <td>relaxed_jeans</td>\n",
       "      <td>relaxed_fit</td>\n",
       "      <td>regular_waist</td>\n",
       "    </tr>\n",
       "    <tr>\n",
       "      <th>1</th>\n",
       "      <td>0875105024</td>\n",
       "      <td>0875105</td>\n",
       "      <td>024</td>\n",
       "      <td>men_jeans_relaxed</td>\n",
       "      <td>dark_denim_blue</td>\n",
       "      <td>relaxed_jeans</td>\n",
       "      <td>relaxed_fit</td>\n",
       "      <td>regular_waist</td>\n",
       "    </tr>\n",
       "    <tr>\n",
       "      <th>2</th>\n",
       "      <td>0875105024</td>\n",
       "      <td>0875105</td>\n",
       "      <td>024</td>\n",
       "      <td>men_jeans_relaxed</td>\n",
       "      <td>pale_denim_blue</td>\n",
       "      <td>relaxed_jeans</td>\n",
       "      <td>relaxed_fit</td>\n",
       "      <td>regular_waist</td>\n",
       "    </tr>\n",
       "    <tr>\n",
       "      <th>3</th>\n",
       "      <td>0875105024</td>\n",
       "      <td>0875105</td>\n",
       "      <td>024</td>\n",
       "      <td>men_jeans_relaxed</td>\n",
       "      <td>black</td>\n",
       "      <td>relaxed_jeans</td>\n",
       "      <td>relaxed_fit</td>\n",
       "      <td>regular_waist</td>\n",
       "    </tr>\n",
       "    <tr>\n",
       "      <th>4</th>\n",
       "      <td>0875105024</td>\n",
       "      <td>0875105</td>\n",
       "      <td>024</td>\n",
       "      <td>men_jeans_relaxed</td>\n",
       "      <td>light_denim_blue</td>\n",
       "      <td>relaxed_jeans</td>\n",
       "      <td>relaxed_fit</td>\n",
       "      <td>regular_waist</td>\n",
       "    </tr>\n",
       "    <tr>\n",
       "      <th>...</th>\n",
       "      <td>...</td>\n",
       "      <td>...</td>\n",
       "      <td>...</td>\n",
       "      <td>...</td>\n",
       "      <td>...</td>\n",
       "      <td>...</td>\n",
       "      <td>...</td>\n",
       "      <td>...</td>\n",
       "    </tr>\n",
       "    <tr>\n",
       "      <th>107</th>\n",
       "      <td>0427159006</td>\n",
       "      <td>0427159</td>\n",
       "      <td>006</td>\n",
       "      <td>men_jeans_ripped</td>\n",
       "      <td>super_light_denim_blue</td>\n",
       "      <td>trashed_skinny_jeans</td>\n",
       "      <td>skinny_fit</td>\n",
       "      <td>regular_waist</td>\n",
       "    </tr>\n",
       "    <tr>\n",
       "      <th>108</th>\n",
       "      <td>0427159006</td>\n",
       "      <td>0427159</td>\n",
       "      <td>006</td>\n",
       "      <td>men_jeans_ripped</td>\n",
       "      <td>black_trashed</td>\n",
       "      <td>trashed_skinny_jeans</td>\n",
       "      <td>skinny_fit</td>\n",
       "      <td>regular_waist</td>\n",
       "    </tr>\n",
       "    <tr>\n",
       "      <th>109</th>\n",
       "      <td>0427159006</td>\n",
       "      <td>0427159</td>\n",
       "      <td>006</td>\n",
       "      <td>men_jeans_ripped</td>\n",
       "      <td>light_denim_blue</td>\n",
       "      <td>trashed_skinny_jeans</td>\n",
       "      <td>skinny_fit</td>\n",
       "      <td>regular_waist</td>\n",
       "    </tr>\n",
       "    <tr>\n",
       "      <th>110</th>\n",
       "      <td>0427159006</td>\n",
       "      <td>0427159</td>\n",
       "      <td>006</td>\n",
       "      <td>men_jeans_ripped</td>\n",
       "      <td>denim_blue_bleached</td>\n",
       "      <td>trashed_skinny_jeans</td>\n",
       "      <td>skinny_fit</td>\n",
       "      <td>regular_waist</td>\n",
       "    </tr>\n",
       "    <tr>\n",
       "      <th>111</th>\n",
       "      <td>0427159006</td>\n",
       "      <td>0427159</td>\n",
       "      <td>006</td>\n",
       "      <td>men_jeans_ripped</td>\n",
       "      <td>black_bleached</td>\n",
       "      <td>trashed_skinny_jeans</td>\n",
       "      <td>skinny_fit</td>\n",
       "      <td>regular_waist</td>\n",
       "    </tr>\n",
       "  </tbody>\n",
       "</table>\n",
       "<p>112 rows × 8 columns</p>\n",
       "</div>"
      ],
      "text/plain": [
       "     product_id  syle_id color_id       product_name              color_name  \\\n",
       "0    0875105024  0875105      024  men_jeans_relaxed              denim_blue   \n",
       "1    0875105024  0875105      024  men_jeans_relaxed         dark_denim_blue   \n",
       "2    0875105024  0875105      024  men_jeans_relaxed         pale_denim_blue   \n",
       "3    0875105024  0875105      024  men_jeans_relaxed                   black   \n",
       "4    0875105024  0875105      024  men_jeans_relaxed        light_denim_blue   \n",
       "..          ...      ...      ...                ...                     ...   \n",
       "107  0427159006  0427159      006   men_jeans_ripped  super_light_denim_blue   \n",
       "108  0427159006  0427159      006   men_jeans_ripped           black_trashed   \n",
       "109  0427159006  0427159      006   men_jeans_ripped        light_denim_blue   \n",
       "110  0427159006  0427159      006   men_jeans_ripped     denim_blue_bleached   \n",
       "111  0427159006  0427159      006   men_jeans_ripped          black_bleached   \n",
       "\n",
       "             product_type          fit messages.waist_rise  \n",
       "0           relaxed_jeans  relaxed_fit       regular_waist  \n",
       "1           relaxed_jeans  relaxed_fit       regular_waist  \n",
       "2           relaxed_jeans  relaxed_fit       regular_waist  \n",
       "3           relaxed_jeans  relaxed_fit       regular_waist  \n",
       "4           relaxed_jeans  relaxed_fit       regular_waist  \n",
       "..                    ...          ...                 ...  \n",
       "107  trashed_skinny_jeans   skinny_fit       regular_waist  \n",
       "108  trashed_skinny_jeans   skinny_fit       regular_waist  \n",
       "109  trashed_skinny_jeans   skinny_fit       regular_waist  \n",
       "110  trashed_skinny_jeans   skinny_fit       regular_waist  \n",
       "111  trashed_skinny_jeans   skinny_fit       regular_waist  \n",
       "\n",
       "[112 rows x 8 columns]"
      ]
     },
     "execution_count": 19,
     "metadata": {},
     "output_type": "execute_result"
    }
   ],
   "source": [
    "cat_attributes = df1.select_dtypes(exclude=['int64','float64', 'datetime64[ns]'])\n",
    "cat_attributes"
   ]
  },
  {
   "cell_type": "code",
   "execution_count": 20,
   "id": "0edcb728",
   "metadata": {},
   "outputs": [
    {
     "data": {
      "text/html": [
       "<div>\n",
       "<style scoped>\n",
       "    .dataframe tbody tr th:only-of-type {\n",
       "        vertical-align: middle;\n",
       "    }\n",
       "\n",
       "    .dataframe tbody tr th {\n",
       "        vertical-align: top;\n",
       "    }\n",
       "\n",
       "    .dataframe thead th {\n",
       "        text-align: right;\n",
       "    }\n",
       "</style>\n",
       "<table border=\"1\" class=\"dataframe\">\n",
       "  <thead>\n",
       "    <tr style=\"text-align: right;\">\n",
       "      <th></th>\n",
       "      <th>product_id</th>\n",
       "      <th>syle_id</th>\n",
       "      <th>color_id</th>\n",
       "      <th>product_name</th>\n",
       "      <th>color_name</th>\n",
       "      <th>product_type</th>\n",
       "      <th>fit</th>\n",
       "      <th>messages.waist_rise</th>\n",
       "    </tr>\n",
       "  </thead>\n",
       "  <tbody>\n",
       "    <tr>\n",
       "      <th>21</th>\n",
       "      <td>0971061005</td>\n",
       "      <td>0971061</td>\n",
       "      <td>005</td>\n",
       "      <td>men_jeans_slim</td>\n",
       "      <td>pale_denim_blue</td>\n",
       "      <td>slim_tapered_cropped_jeans</td>\n",
       "      <td>slim_fit</td>\n",
       "      <td>regular_waist</td>\n",
       "    </tr>\n",
       "    <tr>\n",
       "      <th>17</th>\n",
       "      <td>0690449022</td>\n",
       "      <td>0690449</td>\n",
       "      <td>022</td>\n",
       "      <td>men_jeans_ripped</td>\n",
       "      <td>light_denim_blue_trashed</td>\n",
       "      <td>skinny_jeans</td>\n",
       "      <td>skinny_fit</td>\n",
       "      <td>regular_waist</td>\n",
       "    </tr>\n",
       "  </tbody>\n",
       "</table>\n",
       "</div>"
      ],
      "text/plain": [
       "    product_id  syle_id color_id      product_name                color_name  \\\n",
       "21  0971061005  0971061      005    men_jeans_slim           pale_denim_blue   \n",
       "17  0690449022  0690449      022  men_jeans_ripped  light_denim_blue_trashed   \n",
       "\n",
       "                  product_type         fit messages.waist_rise  \n",
       "21  slim_tapered_cropped_jeans    slim_fit       regular_waist  \n",
       "17                skinny_jeans  skinny_fit       regular_waist  "
      ]
     },
     "execution_count": 20,
     "metadata": {},
     "output_type": "execute_result"
    }
   ],
   "source": [
    "cat_attributes.sample(2)"
   ]
  },
  {
   "cell_type": "markdown",
   "id": "e7ebe0a7",
   "metadata": {},
   "source": [
    "## 1.7.1 Numerical Attributes"
   ]
  },
  {
   "cell_type": "code",
   "execution_count": 21,
   "id": "76ec3a90",
   "metadata": {},
   "outputs": [],
   "source": [
    "# Tendência centra: como os dados estão :\n",
    "\n",
    "# Média\n",
    "ct1 = pd.DataFrame(num_attributes.apply(np.mean)).T\n",
    "\n",
    "# Mediana\n",
    "ct2= pd.DataFrame(num_attributes.apply(np.median)).T"
   ]
  },
  {
   "cell_type": "code",
   "execution_count": 22,
   "id": "5ee899cd",
   "metadata": {},
   "outputs": [],
   "source": [
    "# Dispersão: std, min, max, range, skew(assimetria), kurtosis(calda longa)\n",
    "\n",
    "d1 = pd.DataFrame(num_attributes.apply(np.std)).T\n",
    "\n",
    "d2 = pd.DataFrame(num_attributes.apply(np.min)).T\n",
    "\n",
    "d3 = pd.DataFrame(num_attributes.apply(np.max)).T\n",
    "\n",
    "d4 = pd.DataFrame(num_attributes.apply(lambda x: x.max() - x.min())).T\n",
    "\n",
    "d5 = pd.DataFrame(num_attributes.apply(lambda x: x.skew())).T\n",
    "\n",
    "d6 = pd.DataFrame(num_attributes.apply(lambda x: x.kurtosis())).T"
   ]
  },
  {
   "cell_type": "code",
   "execution_count": 23,
   "id": "8c5d187f",
   "metadata": {},
   "outputs": [
    {
     "data": {
      "text/html": [
       "<div>\n",
       "<style scoped>\n",
       "    .dataframe tbody tr th:only-of-type {\n",
       "        vertical-align: middle;\n",
       "    }\n",
       "\n",
       "    .dataframe tbody tr th {\n",
       "        vertical-align: top;\n",
       "    }\n",
       "\n",
       "    .dataframe thead th {\n",
       "        text-align: right;\n",
       "    }\n",
       "</style>\n",
       "<table border=\"1\" class=\"dataframe\">\n",
       "  <thead>\n",
       "    <tr style=\"text-align: right;\">\n",
       "      <th></th>\n",
       "      <th>attributes</th>\n",
       "      <th>min</th>\n",
       "      <th>max</th>\n",
       "      <th>range</th>\n",
       "      <th>mean</th>\n",
       "      <th>median</th>\n",
       "      <th>std</th>\n",
       "      <th>skew</th>\n",
       "      <th>kurtosis</th>\n",
       "    </tr>\n",
       "  </thead>\n",
       "  <tbody>\n",
       "    <tr>\n",
       "      <th>0</th>\n",
       "      <td>product_price</td>\n",
       "      <td>29.99</td>\n",
       "      <td>44.99</td>\n",
       "      <td>15.00</td>\n",
       "      <td>38.427500</td>\n",
       "      <td>39.99</td>\n",
       "      <td>4.065933</td>\n",
       "      <td>-1.382575</td>\n",
       "      <td>0.716084</td>\n",
       "    </tr>\n",
       "    <tr>\n",
       "      <th>1</th>\n",
       "      <td>shell_cotton</td>\n",
       "      <td>0.78</td>\n",
       "      <td>1.00</td>\n",
       "      <td>0.22</td>\n",
       "      <td>0.968571</td>\n",
       "      <td>0.98</td>\n",
       "      <td>0.044418</td>\n",
       "      <td>-3.475377</td>\n",
       "      <td>12.186685</td>\n",
       "    </tr>\n",
       "    <tr>\n",
       "      <th>2</th>\n",
       "      <td>shell_polyester</td>\n",
       "      <td>0.00</td>\n",
       "      <td>0.21</td>\n",
       "      <td>0.21</td>\n",
       "      <td>0.029911</td>\n",
       "      <td>0.02</td>\n",
       "      <td>0.041651</td>\n",
       "      <td>3.641423</td>\n",
       "      <td>13.305920</td>\n",
       "    </tr>\n",
       "    <tr>\n",
       "      <th>3</th>\n",
       "      <td>shell_spandex</td>\n",
       "      <td>0.00</td>\n",
       "      <td>0.01</td>\n",
       "      <td>0.01</td>\n",
       "      <td>0.001518</td>\n",
       "      <td>0.00</td>\n",
       "      <td>0.003588</td>\n",
       "      <td>1.967370</td>\n",
       "      <td>1.904235</td>\n",
       "    </tr>\n",
       "  </tbody>\n",
       "</table>\n",
       "</div>"
      ],
      "text/plain": [
       "        attributes    min    max  range       mean  median       std  \\\n",
       "0    product_price  29.99  44.99  15.00  38.427500   39.99  4.065933   \n",
       "1     shell_cotton   0.78   1.00   0.22   0.968571    0.98  0.044418   \n",
       "2  shell_polyester   0.00   0.21   0.21   0.029911    0.02  0.041651   \n",
       "3    shell_spandex   0.00   0.01   0.01   0.001518    0.00  0.003588   \n",
       "\n",
       "       skew   kurtosis  \n",
       "0 -1.382575   0.716084  \n",
       "1 -3.475377  12.186685  \n",
       "2  3.641423  13.305920  \n",
       "3  1.967370   1.904235  "
      ]
     },
     "execution_count": 23,
     "metadata": {},
     "output_type": "execute_result"
    }
   ],
   "source": [
    "# concat\n",
    "\n",
    "m = pd.concat([d2, d3, d4, ct1, ct2, d1, d5, d6]).T.reset_index()\n",
    "m.columns = ['attributes','min','max','range','mean','median','std','skew','kurtosis']\n",
    "m"
   ]
  },
  {
   "cell_type": "code",
   "execution_count": 24,
   "id": "1d975319",
   "metadata": {},
   "outputs": [
    {
     "name": "stderr",
     "output_type": "stream",
     "text": [
      "C:\\Users\\Utilizador\\anaconda3\\lib\\site-packages\\seaborn\\distributions.py:2619: FutureWarning: `distplot` is a deprecated function and will be removed in a future version. Please adapt your code to use either `displot` (a figure-level function with similar flexibility) or `histplot` (an axes-level function for histograms).\n",
      "  warnings.warn(msg, FutureWarning)\n"
     ]
    },
    {
     "data": {
      "image/png": "[encoded data removed]",
      "text/plain": [
       "<Figure size 432x288 with 1 Axes>"
      ]
     },
     "metadata": {
      "needs_background": "light"
     },
     "output_type": "display_data"
    }
   ],
   "source": [
    "sns.distplot(df1['product_price']);"
   ]
  },
  {
   "cell_type": "code",
   "execution_count": 25,
   "id": "9fb812a8",
   "metadata": {},
   "outputs": [
    {
     "name": "stderr",
     "output_type": "stream",
     "text": [
      "C:\\Users\\Utilizador\\anaconda3\\lib\\site-packages\\seaborn\\distributions.py:2619: FutureWarning: `distplot` is a deprecated function and will be removed in a future version. Please adapt your code to use either `displot` (a figure-level function with similar flexibility) or `histplot` (an axes-level function for histograms).\n",
      "  warnings.warn(msg, FutureWarning)\n"
     ]
    },
    {
     "data": {
      "image/png": "[encoded data removed]",
      "text/plain": [
       "<Figure size 432x288 with 1 Axes>"
      ]
     },
     "metadata": {
      "needs_background": "light"
     },
     "output_type": "display_data"
    }
   ],
   "source": [
    "sns.distplot(df1['shell_cotton']);"
   ]
  },
  {
   "cell_type": "code",
   "execution_count": 26,
   "id": "5777dcd4",
   "metadata": {},
   "outputs": [
    {
     "name": "stderr",
     "output_type": "stream",
     "text": [
      "C:\\Users\\Utilizador\\anaconda3\\lib\\site-packages\\seaborn\\distributions.py:2619: FutureWarning: `distplot` is a deprecated function and will be removed in a future version. Please adapt your code to use either `displot` (a figure-level function with similar flexibility) or `histplot` (an axes-level function for histograms).\n",
      "  warnings.warn(msg, FutureWarning)\n"
     ]
    },
    {
     "data": {
      "image/png": "[encoded data removed]",
      "text/plain": [
       "<Figure size 432x288 with 1 Axes>"
      ]
     },
     "metadata": {
      "needs_background": "light"
     },
     "output_type": "display_data"
    }
   ],
   "source": [
    "sns.distplot(df1['shell_polyester']);"
   ]
  },
  {
   "cell_type": "code",
   "execution_count": 27,
   "id": "641d1d20",
   "metadata": {},
   "outputs": [
    {
     "name": "stderr",
     "output_type": "stream",
     "text": [
      "C:\\Users\\Utilizador\\anaconda3\\lib\\site-packages\\seaborn\\distributions.py:2619: FutureWarning: `distplot` is a deprecated function and will be removed in a future version. Please adapt your code to use either `displot` (a figure-level function with similar flexibility) or `histplot` (an axes-level function for histograms).\n",
      "  warnings.warn(msg, FutureWarning)\n"
     ]
    },
    {
     "data": {
      "image/png": "[encoded data removed]",
      "text/plain": [
       "<Figure size 432x288 with 1 Axes>"
      ]
     },
     "metadata": {
      "needs_background": "light"
     },
     "output_type": "display_data"
    }
   ],
   "source": [
    "sns.distplot(df1['shell_spandex']);"
   ]
  },
  {
   "cell_type": "markdown",
   "id": "b96aab02",
   "metadata": {},
   "source": [
    "## 1.7.2 Categorical Attributes"
   ]
  },
  {
   "cell_type": "code",
   "execution_count": 28,
   "id": "00aaae57",
   "metadata": {},
   "outputs": [
    {
     "data": {
      "text/plain": [
       "product_id             11\n",
       "syle_id                 5\n",
       "color_id               11\n",
       "product_name            4\n",
       "color_name             28\n",
       "product_type            5\n",
       "fit                     4\n",
       "messages.waist_rise     1\n",
       "dtype: int64"
      ]
     },
     "execution_count": 28,
     "metadata": {},
     "output_type": "execute_result"
    }
   ],
   "source": [
    "# Tipo unicos das variaveis categoricas por coluna\n",
    "cat_attributes.apply(lambda x: x.unique().shape[0])"
   ]
  },
  {
   "cell_type": "code",
   "execution_count": 29,
   "id": "3534c4dd",
   "metadata": {
    "scrolled": true
   },
   "outputs": [
    {
     "data": {
      "image/png": "[encoded data removed]",
      "text/plain": [
       "<Figure size 432x288 with 5 Axes>"
      ]
     },
     "metadata": {
      "needs_background": "light"
     },
     "output_type": "display_data"
    }
   ],
   "source": [
    "plt.subplot(2,3,1)\n",
    "sns.boxplot(x='product_id', y='product_price', data=df1)\n",
    "plt.xticks(rotation=90);\n",
    "\n",
    "plt.subplot(2,3,2)\n",
    "sns.boxplot(x='product_name', y='product_price', data=df1)\n",
    "plt.xticks(rotation=90);\n",
    "\n",
    "\n",
    "plt.subplot(2,3,3)\n",
    "sns.boxplot(x='color_name', y='product_price', data=df1)\n",
    "plt.xticks(rotation=90);\n",
    "\n",
    "\n",
    "plt.subplot(2,3,4)\n",
    "sns.boxplot(x='product_type', y='product_price', data=df1);\n",
    "plt.xticks(rotation=90);\n",
    "\n",
    "plt.subplot(2,3,5)\n",
    "sns.boxplot(x='fit', y='product_price', data=df1);\n",
    "plt.xticks(rotation=90);"
   ]
  },
  {
   "cell_type": "code",
   "execution_count": 30,
   "id": "664687b8",
   "metadata": {},
   "outputs": [
    {
     "data": {
      "image/png": "[encoded data removed]",
      "text/plain": [
       "<Figure size 432x288 with 4 Axes>"
      ]
     },
     "metadata": {
      "needs_background": "light"
     },
     "output_type": "display_data"
    }
   ],
   "source": [
    "plt.subplot(2,2,1)\n",
    "aux1 = df1[(df1['color_name'] == 'denim_blue')]\n",
    "sns.boxplot(x='color_name', y='product_price', data=aux1)\n",
    "plt.xticks(rotation=90);\n",
    "\n",
    "plt.subplot(2,2,2)\n",
    "aux2 = df1[(df1['color_name'] == 'light_denim_blue')]\n",
    "sns.boxplot(x='color_name', y='product_price', data=aux2)\n",
    "plt.xticks(rotation=90);\n",
    "\n",
    "plt.subplot(2,2,3)\n",
    "aux3 = df1[(df1['color_name'] == 'dark_denim_blue')]\n",
    "sns.boxplot(x='color_name', y='product_price', data=aux3)\n",
    "plt.xticks(rotation=90);\n",
    "\n",
    "plt.subplot(2,2,4)\n",
    "aux4 = df1[(df1['color_name'] == 'black')]\n",
    "sns.boxplot(x='color_name', y='product_price', data=aux4)\n",
    "plt.xticks(rotation=90);"
   ]
  },
  {
   "cell_type": "code",
   "execution_count": 31,
   "id": "ec94828e",
   "metadata": {},
   "outputs": [
    {
     "data": {
      "image/png": "[encoded data removed]",
      "text/plain": [
       "<Figure size 432x288 with 1 Axes>"
      ]
     },
     "metadata": {
      "needs_background": "light"
     },
     "output_type": "display_data"
    }
   ],
   "source": [
    "plt.subplot(1,2,2)\n",
    "sns.kdeplot(df1[df1['color_name'] == 'denim_blue']       ['product_price'], label='denim_blue' ,shade=True)\n",
    "sns.kdeplot(df1[df1['color_name'] == 'light_denim_blue'] ['product_price'], label='light_denim_blue' ,shade=True)\n",
    "sns.kdeplot(df1[df1['color_name'] == 'dark_denim_blue']  ['product_price'], label='dark_denim_blue' ,shade=True)\n",
    "sns.kdeplot(df1[df1['color_name'] == 'black']            ['product_price'], label='black' ,shade=True);"
   ]
  },
  {
   "cell_type": "markdown",
   "id": "84de8ab1",
   "metadata": {},
   "source": [
    "# 2.0 FEATURE ENGINEERING"
   ]
  },
  {
   "cell_type": "code",
   "execution_count": 32,
   "id": "9a8ae0ad",
   "metadata": {},
   "outputs": [],
   "source": [
    "df2 = df1.copy()"
   ]
  },
  {
   "cell_type": "markdown",
   "id": "994e5c34",
   "metadata": {},
   "source": [
    "## <s>2.1 Hypoteses Mind<s>"
   ]
  },
  {
   "cell_type": "markdown",
   "id": "6c1cadc8",
   "metadata": {},
   "source": [
    "## <s>2.2 Criação de Hipoteses<s>"
   ]
  },
  {
   "cell_type": "markdown",
   "id": "7b118c5e",
   "metadata": {},
   "source": [
    "## <s>Lista Final de Hipóteses<s>"
   ]
  },
  {
   "cell_type": "markdown",
   "id": "54f57c2c",
   "metadata": {},
   "source": [
    "## 2.3 Feature Engineering:\n",
    "\n",
    "    Derivação das foi realizada no webscreping\n",
    "    \n",
    "            - Composition: shell_cotton, shell_polyester, shell_spandex\n",
    "            - product_id: style_id, color_id"
   ]
  },
  {
   "cell_type": "code",
   "execution_count": 33,
   "id": "51a94e2c",
   "metadata": {},
   "outputs": [
    {
     "data": {
      "text/html": [
       "<div>\n",
       "<style scoped>\n",
       "    .dataframe tbody tr th:only-of-type {\n",
       "        vertical-align: middle;\n",
       "    }\n",
       "\n",
       "    .dataframe tbody tr th {\n",
       "        vertical-align: top;\n",
       "    }\n",
       "\n",
       "    .dataframe thead th {\n",
       "        text-align: right;\n",
       "    }\n",
       "</style>\n",
       "<table border=\"1\" class=\"dataframe\">\n",
       "  <thead>\n",
       "    <tr style=\"text-align: right;\">\n",
       "      <th></th>\n",
       "      <th>0</th>\n",
       "      <th>1</th>\n",
       "      <th>2</th>\n",
       "      <th>3</th>\n",
       "      <th>4</th>\n",
       "    </tr>\n",
       "  </thead>\n",
       "  <tbody>\n",
       "    <tr>\n",
       "      <th>product_id</th>\n",
       "      <td>0875105024</td>\n",
       "      <td>0875105024</td>\n",
       "      <td>0875105024</td>\n",
       "      <td>0875105024</td>\n",
       "      <td>0875105024</td>\n",
       "    </tr>\n",
       "    <tr>\n",
       "      <th>syle_id</th>\n",
       "      <td>0875105</td>\n",
       "      <td>0875105</td>\n",
       "      <td>0875105</td>\n",
       "      <td>0875105</td>\n",
       "      <td>0875105</td>\n",
       "    </tr>\n",
       "    <tr>\n",
       "      <th>color_id</th>\n",
       "      <td>024</td>\n",
       "      <td>024</td>\n",
       "      <td>024</td>\n",
       "      <td>024</td>\n",
       "      <td>024</td>\n",
       "    </tr>\n",
       "    <tr>\n",
       "      <th>product_name</th>\n",
       "      <td>men_jeans_relaxed</td>\n",
       "      <td>men_jeans_relaxed</td>\n",
       "      <td>men_jeans_relaxed</td>\n",
       "      <td>men_jeans_relaxed</td>\n",
       "      <td>men_jeans_relaxed</td>\n",
       "    </tr>\n",
       "    <tr>\n",
       "      <th>color_name</th>\n",
       "      <td>denim_blue</td>\n",
       "      <td>dark_denim_blue</td>\n",
       "      <td>pale_denim_blue</td>\n",
       "      <td>black</td>\n",
       "      <td>light_denim_blue</td>\n",
       "    </tr>\n",
       "    <tr>\n",
       "      <th>product_type</th>\n",
       "      <td>relaxed_jeans</td>\n",
       "      <td>relaxed_jeans</td>\n",
       "      <td>relaxed_jeans</td>\n",
       "      <td>relaxed_jeans</td>\n",
       "      <td>relaxed_jeans</td>\n",
       "    </tr>\n",
       "    <tr>\n",
       "      <th>fit</th>\n",
       "      <td>relaxed_fit</td>\n",
       "      <td>relaxed_fit</td>\n",
       "      <td>relaxed_fit</td>\n",
       "      <td>relaxed_fit</td>\n",
       "      <td>relaxed_fit</td>\n",
       "    </tr>\n",
       "    <tr>\n",
       "      <th>product_price</th>\n",
       "      <td>29.99</td>\n",
       "      <td>29.99</td>\n",
       "      <td>29.99</td>\n",
       "      <td>29.99</td>\n",
       "      <td>29.99</td>\n",
       "    </tr>\n",
       "    <tr>\n",
       "      <th>messages.waist_rise</th>\n",
       "      <td>regular_waist</td>\n",
       "      <td>regular_waist</td>\n",
       "      <td>regular_waist</td>\n",
       "      <td>regular_waist</td>\n",
       "      <td>regular_waist</td>\n",
       "    </tr>\n",
       "    <tr>\n",
       "      <th>shell_cotton</th>\n",
       "      <td>1.0</td>\n",
       "      <td>1.0</td>\n",
       "      <td>1.0</td>\n",
       "      <td>1.0</td>\n",
       "      <td>1.0</td>\n",
       "    </tr>\n",
       "    <tr>\n",
       "      <th>shell_polyester</th>\n",
       "      <td>0.0</td>\n",
       "      <td>0.0</td>\n",
       "      <td>0.0</td>\n",
       "      <td>0.0</td>\n",
       "      <td>0.0</td>\n",
       "    </tr>\n",
       "    <tr>\n",
       "      <th>shell_spandex</th>\n",
       "      <td>0.0</td>\n",
       "      <td>0.0</td>\n",
       "      <td>0.0</td>\n",
       "      <td>0.0</td>\n",
       "      <td>0.0</td>\n",
       "    </tr>\n",
       "    <tr>\n",
       "      <th>scrapy_datetime</th>\n",
       "      <td>2022-06-17 10:35:02</td>\n",
       "      <td>2022-06-17 10:35:02</td>\n",
       "      <td>2022-06-17 10:35:02</td>\n",
       "      <td>2022-06-17 10:35:02</td>\n",
       "      <td>2022-06-17 10:35:02</td>\n",
       "    </tr>\n",
       "  </tbody>\n",
       "</table>\n",
       "</div>"
      ],
      "text/plain": [
       "                                       0                    1  \\\n",
       "product_id                    0875105024           0875105024   \n",
       "syle_id                          0875105              0875105   \n",
       "color_id                             024                  024   \n",
       "product_name           men_jeans_relaxed    men_jeans_relaxed   \n",
       "color_name                    denim_blue      dark_denim_blue   \n",
       "product_type               relaxed_jeans        relaxed_jeans   \n",
       "fit                          relaxed_fit          relaxed_fit   \n",
       "product_price                      29.99                29.99   \n",
       "messages.waist_rise        regular_waist        regular_waist   \n",
       "shell_cotton                         1.0                  1.0   \n",
       "shell_polyester                      0.0                  0.0   \n",
       "shell_spandex                        0.0                  0.0   \n",
       "scrapy_datetime      2022-06-17 10:35:02  2022-06-17 10:35:02   \n",
       "\n",
       "                                       2                    3  \\\n",
       "product_id                    0875105024           0875105024   \n",
       "syle_id                          0875105              0875105   \n",
       "color_id                             024                  024   \n",
       "product_name           men_jeans_relaxed    men_jeans_relaxed   \n",
       "color_name               pale_denim_blue                black   \n",
       "product_type               relaxed_jeans        relaxed_jeans   \n",
       "fit                          relaxed_fit          relaxed_fit   \n",
       "product_price                      29.99                29.99   \n",
       "messages.waist_rise        regular_waist        regular_waist   \n",
       "shell_cotton                         1.0                  1.0   \n",
       "shell_polyester                      0.0                  0.0   \n",
       "shell_spandex                        0.0                  0.0   \n",
       "scrapy_datetime      2022-06-17 10:35:02  2022-06-17 10:35:02   \n",
       "\n",
       "                                       4  \n",
       "product_id                    0875105024  \n",
       "syle_id                          0875105  \n",
       "color_id                             024  \n",
       "product_name           men_jeans_relaxed  \n",
       "color_name              light_denim_blue  \n",
       "product_type               relaxed_jeans  \n",
       "fit                          relaxed_fit  \n",
       "product_price                      29.99  \n",
       "messages.waist_rise        regular_waist  \n",
       "shell_cotton                         1.0  \n",
       "shell_polyester                      0.0  \n",
       "shell_spandex                        0.0  \n",
       "scrapy_datetime      2022-06-17 10:35:02  "
      ]
     },
     "execution_count": 33,
     "metadata": {},
     "output_type": "execute_result"
    }
   ],
   "source": [
    "df2.head().T"
   ]
  },
  {
   "cell_type": "markdown",
   "id": "3bd534eb",
   "metadata": {},
   "source": [
    "# 3.0 VARIABLE FILTERING"
   ]
  },
  {
   "cell_type": "code",
   "execution_count": 34,
   "id": "112b8086",
   "metadata": {},
   "outputs": [],
   "source": [
    "df3 = df2.copy()"
   ]
  },
  {
   "cell_type": "code",
   "execution_count": 35,
   "id": "5d3353b2",
   "metadata": {},
   "outputs": [
    {
     "data": {
      "text/html": [
       "<div>\n",
       "<style scoped>\n",
       "    .dataframe tbody tr th:only-of-type {\n",
       "        vertical-align: middle;\n",
       "    }\n",
       "\n",
       "    .dataframe tbody tr th {\n",
       "        vertical-align: top;\n",
       "    }\n",
       "\n",
       "    .dataframe thead th {\n",
       "        text-align: right;\n",
       "    }\n",
       "</style>\n",
       "<table border=\"1\" class=\"dataframe\">\n",
       "  <thead>\n",
       "    <tr style=\"text-align: right;\">\n",
       "      <th></th>\n",
       "      <th>product_id</th>\n",
       "      <th>syle_id</th>\n",
       "      <th>color_id</th>\n",
       "      <th>product_name</th>\n",
       "      <th>color_name</th>\n",
       "      <th>product_type</th>\n",
       "      <th>fit</th>\n",
       "      <th>product_price</th>\n",
       "      <th>messages.waist_rise</th>\n",
       "      <th>shell_cotton</th>\n",
       "      <th>shell_polyester</th>\n",
       "      <th>shell_spandex</th>\n",
       "      <th>scrapy_datetime</th>\n",
       "    </tr>\n",
       "  </thead>\n",
       "  <tbody>\n",
       "    <tr>\n",
       "      <th>0</th>\n",
       "      <td>0875105024</td>\n",
       "      <td>0875105</td>\n",
       "      <td>024</td>\n",
       "      <td>men_jeans_relaxed</td>\n",
       "      <td>denim_blue</td>\n",
       "      <td>relaxed_jeans</td>\n",
       "      <td>relaxed_fit</td>\n",
       "      <td>29.99</td>\n",
       "      <td>regular_waist</td>\n",
       "      <td>1.0</td>\n",
       "      <td>0.0</td>\n",
       "      <td>0.0</td>\n",
       "      <td>2022-06-17 10:35:02</td>\n",
       "    </tr>\n",
       "    <tr>\n",
       "      <th>1</th>\n",
       "      <td>0875105024</td>\n",
       "      <td>0875105</td>\n",
       "      <td>024</td>\n",
       "      <td>men_jeans_relaxed</td>\n",
       "      <td>dark_denim_blue</td>\n",
       "      <td>relaxed_jeans</td>\n",
       "      <td>relaxed_fit</td>\n",
       "      <td>29.99</td>\n",
       "      <td>regular_waist</td>\n",
       "      <td>1.0</td>\n",
       "      <td>0.0</td>\n",
       "      <td>0.0</td>\n",
       "      <td>2022-06-17 10:35:02</td>\n",
       "    </tr>\n",
       "    <tr>\n",
       "      <th>2</th>\n",
       "      <td>0875105024</td>\n",
       "      <td>0875105</td>\n",
       "      <td>024</td>\n",
       "      <td>men_jeans_relaxed</td>\n",
       "      <td>pale_denim_blue</td>\n",
       "      <td>relaxed_jeans</td>\n",
       "      <td>relaxed_fit</td>\n",
       "      <td>29.99</td>\n",
       "      <td>regular_waist</td>\n",
       "      <td>1.0</td>\n",
       "      <td>0.0</td>\n",
       "      <td>0.0</td>\n",
       "      <td>2022-06-17 10:35:02</td>\n",
       "    </tr>\n",
       "    <tr>\n",
       "      <th>3</th>\n",
       "      <td>0875105024</td>\n",
       "      <td>0875105</td>\n",
       "      <td>024</td>\n",
       "      <td>men_jeans_relaxed</td>\n",
       "      <td>black</td>\n",
       "      <td>relaxed_jeans</td>\n",
       "      <td>relaxed_fit</td>\n",
       "      <td>29.99</td>\n",
       "      <td>regular_waist</td>\n",
       "      <td>1.0</td>\n",
       "      <td>0.0</td>\n",
       "      <td>0.0</td>\n",
       "      <td>2022-06-17 10:35:02</td>\n",
       "    </tr>\n",
       "    <tr>\n",
       "      <th>4</th>\n",
       "      <td>0875105024</td>\n",
       "      <td>0875105</td>\n",
       "      <td>024</td>\n",
       "      <td>men_jeans_relaxed</td>\n",
       "      <td>light_denim_blue</td>\n",
       "      <td>relaxed_jeans</td>\n",
       "      <td>relaxed_fit</td>\n",
       "      <td>29.99</td>\n",
       "      <td>regular_waist</td>\n",
       "      <td>1.0</td>\n",
       "      <td>0.0</td>\n",
       "      <td>0.0</td>\n",
       "      <td>2022-06-17 10:35:02</td>\n",
       "    </tr>\n",
       "  </tbody>\n",
       "</table>\n",
       "</div>"
      ],
      "text/plain": [
       "   product_id  syle_id color_id       product_name        color_name  \\\n",
       "0  0875105024  0875105      024  men_jeans_relaxed        denim_blue   \n",
       "1  0875105024  0875105      024  men_jeans_relaxed   dark_denim_blue   \n",
       "2  0875105024  0875105      024  men_jeans_relaxed   pale_denim_blue   \n",
       "3  0875105024  0875105      024  men_jeans_relaxed             black   \n",
       "4  0875105024  0875105      024  men_jeans_relaxed  light_denim_blue   \n",
       "\n",
       "    product_type          fit  product_price messages.waist_rise  \\\n",
       "0  relaxed_jeans  relaxed_fit          29.99       regular_waist   \n",
       "1  relaxed_jeans  relaxed_fit          29.99       regular_waist   \n",
       "2  relaxed_jeans  relaxed_fit          29.99       regular_waist   \n",
       "3  relaxed_jeans  relaxed_fit          29.99       regular_waist   \n",
       "4  relaxed_jeans  relaxed_fit          29.99       regular_waist   \n",
       "\n",
       "   shell_cotton  shell_polyester  shell_spandex     scrapy_datetime  \n",
       "0           1.0              0.0            0.0 2022-06-17 10:35:02  \n",
       "1           1.0              0.0            0.0 2022-06-17 10:35:02  \n",
       "2           1.0              0.0            0.0 2022-06-17 10:35:02  \n",
       "3           1.0              0.0            0.0 2022-06-17 10:35:02  \n",
       "4           1.0              0.0            0.0 2022-06-17 10:35:02  "
      ]
     },
     "execution_count": 35,
     "metadata": {},
     "output_type": "execute_result"
    }
   ],
   "source": [
    "df3.head()"
   ]
  },
  {
   "cell_type": "markdown",
   "id": "02e1cb38",
   "metadata": {},
   "source": [
    "## 3.1 Line filtering"
   ]
  },
  {
   "cell_type": "code",
   "execution_count": 36,
   "id": "b4cf03e1",
   "metadata": {},
   "outputs": [],
   "source": [
    "df3 = df3[(df3['product_price'] != 0)]"
   ]
  },
  {
   "cell_type": "markdown",
   "id": "dc04a710",
   "metadata": {},
   "source": [
    "## 3.2 Selection of columns"
   ]
  },
  {
   "cell_type": "code",
   "execution_count": 37,
   "id": "a038a160",
   "metadata": {},
   "outputs": [],
   "source": [
    "cols_drop= ['messages.waist_rise']\n",
    "df3 = df3.drop(cols_drop, axis=1)"
   ]
  },
  {
   "cell_type": "code",
   "execution_count": 38,
   "id": "48bec610",
   "metadata": {},
   "outputs": [
    {
     "data": {
      "text/plain": [
       "Index(['product_id', 'syle_id', 'color_id', 'product_name', 'color_name',\n",
       "       'product_type', 'fit', 'product_price', 'shell_cotton',\n",
       "       'shell_polyester', 'shell_spandex', 'scrapy_datetime'],\n",
       "      dtype='object')"
      ]
     },
     "execution_count": 38,
     "metadata": {},
     "output_type": "execute_result"
    }
   ],
   "source": [
    "df3.columns"
   ]
  },
  {
   "cell_type": "markdown",
   "id": "2a3e2415",
   "metadata": {},
   "source": [
    "# 4.0 EXPLORATORY DATA ANALYSISIS"
   ]
  },
  {
   "cell_type": "code",
   "execution_count": 39,
   "id": "843b61b2",
   "metadata": {},
   "outputs": [],
   "source": [
    "df4 = df3.copy()"
   ]
  },
  {
   "cell_type": "markdown",
   "id": "da9a72ae",
   "metadata": {},
   "source": [
    "## 4.1 Análise Univariada"
   ]
  },
  {
   "cell_type": "markdown",
   "id": "55492c44",
   "metadata": {},
   "source": [
    "### 4.1.1 Análise Variavél Resposta"
   ]
  },
  {
   "cell_type": "code",
   "execution_count": 40,
   "id": "bdb8d7e5",
   "metadata": {},
   "outputs": [
    {
     "name": "stderr",
     "output_type": "stream",
     "text": [
      "C:\\Users\\Utilizador\\anaconda3\\lib\\site-packages\\seaborn\\distributions.py:2619: FutureWarning: `distplot` is a deprecated function and will be removed in a future version. Please adapt your code to use either `displot` (a figure-level function with similar flexibility) or `histplot` (an axes-level function for histograms).\n",
      "  warnings.warn(msg, FutureWarning)\n"
     ]
    },
    {
     "data": {
      "image/png": "[encoded data removed]",
      "text/plain": [
       "<Figure size 432x288 with 1 Axes>"
      ]
     },
     "metadata": {
      "needs_background": "light"
     },
     "output_type": "display_data"
    }
   ],
   "source": [
    "sns.distplot(df4['product_price']);"
   ]
  },
  {
   "cell_type": "code",
   "execution_count": 41,
   "id": "25ae11c6",
   "metadata": {},
   "outputs": [
    {
     "name": "stderr",
     "output_type": "stream",
     "text": [
      "C:\\Users\\Utilizador\\anaconda3\\lib\\site-packages\\seaborn\\distributions.py:2619: FutureWarning: `distplot` is a deprecated function and will be removed in a future version. Please adapt your code to use either `displot` (a figure-level function with similar flexibility) or `histplot` (an axes-level function for histograms).\n",
      "  warnings.warn(msg, FutureWarning)\n"
     ]
    },
    {
     "data": {
      "image/png": "[encoded data removed]",
      "text/plain": [
       "<Figure size 432x288 with 1 Axes>"
      ]
     },
     "metadata": {
      "needs_background": "light"
     },
     "output_type": "display_data"
    }
   ],
   "source": [
    "# Uma das formas de realizar o ajuste (modificação), para chegar mais proximo da curva normal é multiplicar pelo log\n",
    "sns.distplot(np.log1p(df4['product_price']));"
   ]
  },
  {
   "cell_type": "markdown",
   "id": "9fa1f3e7",
   "metadata": {},
   "source": [
    "### 4.1.2 Análise Variavél Numérica"
   ]
  },
  {
   "cell_type": "code",
   "execution_count": 42,
   "id": "b468bb8b",
   "metadata": {},
   "outputs": [
    {
     "data": {
      "image/png": "[encoded data removed]",
      "text/plain": [
       "<Figure size 432x288 with 4 Axes>"
      ]
     },
     "metadata": {
      "needs_background": "light"
     },
     "output_type": "display_data"
    }
   ],
   "source": [
    "num_attributes.hist();"
   ]
  },
  {
   "cell_type": "code",
   "execution_count": 43,
   "id": "de1290ae",
   "metadata": {},
   "outputs": [
    {
     "data": {
      "image/png": "[encoded data removed]",
      "text/plain": [
       "<Figure size 432x288 with 4 Axes>"
      ]
     },
     "metadata": {
      "needs_background": "light"
     },
     "output_type": "display_data"
    }
   ],
   "source": [
    "num_attributes.hist(bins=25);"
   ]
  },
  {
   "cell_type": "markdown",
   "id": "462085f8",
   "metadata": {},
   "source": [
    "### 4.1.3 Análise Variavél Categórica"
   ]
  },
  {
   "cell_type": "code",
   "execution_count": 44,
   "id": "184b183e",
   "metadata": {},
   "outputs": [
    {
     "data": {
      "text/html": [
       "<div>\n",
       "<style scoped>\n",
       "    .dataframe tbody tr th:only-of-type {\n",
       "        vertical-align: middle;\n",
       "    }\n",
       "\n",
       "    .dataframe tbody tr th {\n",
       "        vertical-align: top;\n",
       "    }\n",
       "\n",
       "    .dataframe thead th {\n",
       "        text-align: right;\n",
       "    }\n",
       "</style>\n",
       "<table border=\"1\" class=\"dataframe\">\n",
       "  <thead>\n",
       "    <tr style=\"text-align: right;\">\n",
       "      <th></th>\n",
       "      <th>product_id</th>\n",
       "      <th>syle_id</th>\n",
       "      <th>color_id</th>\n",
       "      <th>product_name</th>\n",
       "      <th>color_name</th>\n",
       "      <th>product_type</th>\n",
       "      <th>fit</th>\n",
       "      <th>messages.waist_rise</th>\n",
       "    </tr>\n",
       "  </thead>\n",
       "  <tbody>\n",
       "    <tr>\n",
       "      <th>0</th>\n",
       "      <td>0875105024</td>\n",
       "      <td>0875105</td>\n",
       "      <td>024</td>\n",
       "      <td>men_jeans_relaxed</td>\n",
       "      <td>denim_blue</td>\n",
       "      <td>relaxed_jeans</td>\n",
       "      <td>relaxed_fit</td>\n",
       "      <td>regular_waist</td>\n",
       "    </tr>\n",
       "    <tr>\n",
       "      <th>1</th>\n",
       "      <td>0875105024</td>\n",
       "      <td>0875105</td>\n",
       "      <td>024</td>\n",
       "      <td>men_jeans_relaxed</td>\n",
       "      <td>dark_denim_blue</td>\n",
       "      <td>relaxed_jeans</td>\n",
       "      <td>relaxed_fit</td>\n",
       "      <td>regular_waist</td>\n",
       "    </tr>\n",
       "    <tr>\n",
       "      <th>2</th>\n",
       "      <td>0875105024</td>\n",
       "      <td>0875105</td>\n",
       "      <td>024</td>\n",
       "      <td>men_jeans_relaxed</td>\n",
       "      <td>pale_denim_blue</td>\n",
       "      <td>relaxed_jeans</td>\n",
       "      <td>relaxed_fit</td>\n",
       "      <td>regular_waist</td>\n",
       "    </tr>\n",
       "    <tr>\n",
       "      <th>3</th>\n",
       "      <td>0875105024</td>\n",
       "      <td>0875105</td>\n",
       "      <td>024</td>\n",
       "      <td>men_jeans_relaxed</td>\n",
       "      <td>black</td>\n",
       "      <td>relaxed_jeans</td>\n",
       "      <td>relaxed_fit</td>\n",
       "      <td>regular_waist</td>\n",
       "    </tr>\n",
       "    <tr>\n",
       "      <th>4</th>\n",
       "      <td>0875105024</td>\n",
       "      <td>0875105</td>\n",
       "      <td>024</td>\n",
       "      <td>men_jeans_relaxed</td>\n",
       "      <td>light_denim_blue</td>\n",
       "      <td>relaxed_jeans</td>\n",
       "      <td>relaxed_fit</td>\n",
       "      <td>regular_waist</td>\n",
       "    </tr>\n",
       "  </tbody>\n",
       "</table>\n",
       "</div>"
      ],
      "text/plain": [
       "   product_id  syle_id color_id       product_name        color_name  \\\n",
       "0  0875105024  0875105      024  men_jeans_relaxed        denim_blue   \n",
       "1  0875105024  0875105      024  men_jeans_relaxed   dark_denim_blue   \n",
       "2  0875105024  0875105      024  men_jeans_relaxed   pale_denim_blue   \n",
       "3  0875105024  0875105      024  men_jeans_relaxed             black   \n",
       "4  0875105024  0875105      024  men_jeans_relaxed  light_denim_blue   \n",
       "\n",
       "    product_type          fit messages.waist_rise  \n",
       "0  relaxed_jeans  relaxed_fit       regular_waist  \n",
       "1  relaxed_jeans  relaxed_fit       regular_waist  \n",
       "2  relaxed_jeans  relaxed_fit       regular_waist  \n",
       "3  relaxed_jeans  relaxed_fit       regular_waist  \n",
       "4  relaxed_jeans  relaxed_fit       regular_waist  "
      ]
     },
     "execution_count": 44,
     "metadata": {},
     "output_type": "execute_result"
    }
   ],
   "source": [
    "cat_attributes.head()"
   ]
  },
  {
   "cell_type": "code",
   "execution_count": null,
   "id": "721eb6ac",
   "metadata": {},
   "outputs": [],
   "source": []
  },
  {
   "cell_type": "markdown",
   "id": "de3ee8ed",
   "metadata": {},
   "source": [
    "## product_id"
   ]
  },
  {
   "cell_type": "code",
   "execution_count": 50,
   "id": "93cc0216",
   "metadata": {},
   "outputs": [
    {
     "data": {
      "text/plain": [
       "0      0875105024\n",
       "6      0690449022\n",
       "21     0971061005\n",
       "25     0690449051\n",
       "40     0690449036\n",
       "55     0971061002\n",
       "59     0690449043\n",
       "74     1013317012\n",
       "79     0690449056\n",
       "94     0875105018\n",
       "100    0427159006\n",
       "Name: product_id, dtype: object"
      ]
     },
     "execution_count": 50,
     "metadata": {},
     "output_type": "execute_result"
    }
   ],
   "source": [
    "df4['product_id'].drop_duplicates()"
   ]
  },
  {
   "cell_type": "code",
   "execution_count": 51,
   "id": "3fd26fa6",
   "metadata": {},
   "outputs": [
    {
     "name": "stderr",
     "output_type": "stream",
     "text": [
      "C:\\Users\\Utilizador\\anaconda3\\lib\\site-packages\\seaborn\\_decorators.py:36: FutureWarning: Pass the following variable as a keyword arg: x. From version 0.12, the only valid positional argument will be `data`, and passing other arguments without an explicit keyword will result in an error or misinterpretation.\n",
      "  warnings.warn(\n"
     ]
    },
    {
     "data": {
      "image/png": "[encoded data removed]",
      "text/plain": [
       "<Figure size 432x288 with 1 Axes>"
      ]
     },
     "metadata": {
      "needs_background": "light"
     },
     "output_type": "display_data"
    }
   ],
   "source": [
    "sns.countplot(df4['product_id'])\n",
    "plt.xticks(rotation=90);"
   ]
  },
  {
   "cell_type": "markdown",
   "id": "a383beaa",
   "metadata": {},
   "source": [
    "## style_id"
   ]
  },
  {
   "cell_type": "code",
   "execution_count": 56,
   "id": "92e015d8",
   "metadata": {},
   "outputs": [
    {
     "data": {
      "text/plain": [
       "0      0875105\n",
       "6      0690449\n",
       "21     0971061\n",
       "74     1013317\n",
       "100    0427159\n",
       "Name: syle_id, dtype: object"
      ]
     },
     "execution_count": 56,
     "metadata": {},
     "output_type": "execute_result"
    }
   ],
   "source": [
    "df4['syle_id'].drop_duplicates()"
   ]
  },
  {
   "cell_type": "code",
   "execution_count": 57,
   "id": "799fdb3d",
   "metadata": {},
   "outputs": [
    {
     "name": "stderr",
     "output_type": "stream",
     "text": [
      "C:\\Users\\Utilizador\\anaconda3\\lib\\site-packages\\seaborn\\_decorators.py:36: FutureWarning: Pass the following variable as a keyword arg: x. From version 0.12, the only valid positional argument will be `data`, and passing other arguments without an explicit keyword will result in an error or misinterpretation.\n",
      "  warnings.warn(\n"
     ]
    },
    {
     "data": {
      "image/png": "[encoded data removed]",
      "text/plain": [
       "<Figure size 432x288 with 1 Axes>"
      ]
     },
     "metadata": {
      "needs_background": "light"
     },
     "output_type": "display_data"
    }
   ],
   "source": [
    "sns.countplot(df4['syle_id'])\n",
    "plt.xticks(rotation=90);"
   ]
  },
  {
   "cell_type": "markdown",
   "id": "f2c5c0cc",
   "metadata": {},
   "source": [
    "## color_id"
   ]
  },
  {
   "cell_type": "code",
   "execution_count": 58,
   "id": "2453b0ae",
   "metadata": {},
   "outputs": [
    {
     "data": {
      "text/plain": [
       "0      024\n",
       "6      022\n",
       "21     005\n",
       "25     051\n",
       "40     036\n",
       "55     002\n",
       "59     043\n",
       "74     012\n",
       "79     056\n",
       "94     018\n",
       "100    006\n",
       "Name: color_id, dtype: object"
      ]
     },
     "execution_count": 58,
     "metadata": {},
     "output_type": "execute_result"
    }
   ],
   "source": [
    "df4['color_id'].drop_duplicates()"
   ]
  },
  {
   "cell_type": "code",
   "execution_count": 59,
   "id": "9ac6c45c",
   "metadata": {},
   "outputs": [
    {
     "name": "stderr",
     "output_type": "stream",
     "text": [
      "C:\\Users\\Utilizador\\anaconda3\\lib\\site-packages\\seaborn\\_decorators.py:36: FutureWarning: Pass the following variable as a keyword arg: x. From version 0.12, the only valid positional argument will be `data`, and passing other arguments without an explicit keyword will result in an error or misinterpretation.\n",
      "  warnings.warn(\n"
     ]
    },
    {
     "data": {
      "image/png": "[encoded data removed]",
      "text/plain": [
       "<Figure size 432x288 with 1 Axes>"
      ]
     },
     "metadata": {
      "needs_background": "light"
     },
     "output_type": "display_data"
    }
   ],
   "source": [
    "sns.countplot(df4['color_id'])\n",
    "plt.xticks(rotation=90);"
   ]
  },
  {
   "cell_type": "markdown",
   "id": "3a7623d2",
   "metadata": {},
   "source": [
    "## product_name"
   ]
  },
  {
   "cell_type": "code",
   "execution_count": 69,
   "id": "50bc9a11",
   "metadata": {},
   "outputs": [
    {
     "data": {
      "text/plain": [
       "0     men_jeans_relaxed\n",
       "6      men_jeans_ripped\n",
       "21       men_jeans_slim\n",
       "74    men_jeans_joggers\n",
       "Name: product_name, dtype: object"
      ]
     },
     "execution_count": 69,
     "metadata": {},
     "output_type": "execute_result"
    }
   ],
   "source": [
    "df4['product_name'].drop_duplicates()"
   ]
  },
  {
   "cell_type": "code",
   "execution_count": 70,
   "id": "179152c0",
   "metadata": {
    "scrolled": true
   },
   "outputs": [
    {
     "name": "stderr",
     "output_type": "stream",
     "text": [
      "C:\\Users\\Utilizador\\anaconda3\\lib\\site-packages\\seaborn\\_decorators.py:36: FutureWarning: Pass the following variable as a keyword arg: x. From version 0.12, the only valid positional argument will be `data`, and passing other arguments without an explicit keyword will result in an error or misinterpretation.\n",
      "  warnings.warn(\n"
     ]
    },
    {
     "data": {
      "image/png": "[encoded data removed]",
      "text/plain": [
       "<Figure size 432x288 with 1 Axes>"
      ]
     },
     "metadata": {
      "needs_background": "light"
     },
     "output_type": "display_data"
    }
   ],
   "source": [
    "sns.countplot(df4['product_name'])\n",
    "plt.xticks(rotation=90);"
   ]
  },
  {
   "cell_type": "markdown",
   "id": "c554ecb1",
   "metadata": {},
   "source": [
    "## color_name"
   ]
  },
  {
   "cell_type": "code",
   "execution_count": 71,
   "id": "286317dc",
   "metadata": {},
   "outputs": [
    {
     "data": {
      "text/plain": [
       "0                    denim_blue\n",
       "1               dark_denim_blue\n",
       "2               pale_denim_blue\n",
       "3                         black\n",
       "4              light_denim_blue\n",
       "5                    light_gray\n",
       "7              black_washed_out\n",
       "8                         white\n",
       "9                  black_washed\n",
       "10      dark_denim_blue_trashed\n",
       "11                black_trashed\n",
       "12            dark_blue_trashed\n",
       "13         dark_blue_washed_out\n",
       "14           denim_blue_trashed\n",
       "16                   denim_gray\n",
       "17     light_denim_blue_trashed\n",
       "18     light_denim_gray_trashed\n",
       "19                         gray\n",
       "23              dark_denim_gray\n",
       "75                    dark_gray\n",
       "76                    dark_blue\n",
       "100                 black_denim\n",
       "101             blue_washed_out\n",
       "105                 white_denim\n",
       "106       light_blue_washed_out\n",
       "107      super_light_denim_blue\n",
       "110         denim_blue_bleached\n",
       "111              black_bleached\n",
       "Name: color_name, dtype: object"
      ]
     },
     "execution_count": 71,
     "metadata": {},
     "output_type": "execute_result"
    }
   ],
   "source": [
    "df4['color_name'].drop_duplicates()"
   ]
  },
  {
   "cell_type": "code",
   "execution_count": 72,
   "id": "7a852c85",
   "metadata": {},
   "outputs": [
    {
     "name": "stderr",
     "output_type": "stream",
     "text": [
      "C:\\Users\\Utilizador\\anaconda3\\lib\\site-packages\\seaborn\\_decorators.py:36: FutureWarning: Pass the following variable as a keyword arg: x. From version 0.12, the only valid positional argument will be `data`, and passing other arguments without an explicit keyword will result in an error or misinterpretation.\n",
      "  warnings.warn(\n"
     ]
    },
    {
     "data": {
      "image/png": "[encoded data removed]",
      "text/plain": [
       "<Figure size 432x288 with 1 Axes>"
      ]
     },
     "metadata": {
      "needs_background": "light"
     },
     "output_type": "display_data"
    }
   ],
   "source": [
    "sns.countplot(df4['color_name'])\n",
    "plt.xticks(rotation=90);"
   ]
  },
  {
   "cell_type": "markdown",
   "id": "1d8ed3fa",
   "metadata": {},
   "source": [
    "## product_type"
   ]
  },
  {
   "cell_type": "code",
   "execution_count": 73,
   "id": "2929620b",
   "metadata": {},
   "outputs": [
    {
     "data": {
      "text/plain": [
       "0                       relaxed_jeans\n",
       "6                        skinny_jeans\n",
       "21         slim_tapered_cropped_jeans\n",
       "74     hybrid_regular_tapered_joggers\n",
       "100              trashed_skinny_jeans\n",
       "Name: product_type, dtype: object"
      ]
     },
     "execution_count": 73,
     "metadata": {},
     "output_type": "execute_result"
    }
   ],
   "source": [
    "df4['product_type'].drop_duplicates()"
   ]
  },
  {
   "cell_type": "code",
   "execution_count": 75,
   "id": "c9663265",
   "metadata": {},
   "outputs": [
    {
     "name": "stderr",
     "output_type": "stream",
     "text": [
      "C:\\Users\\Utilizador\\anaconda3\\lib\\site-packages\\seaborn\\_decorators.py:36: FutureWarning: Pass the following variable as a keyword arg: x. From version 0.12, the only valid positional argument will be `data`, and passing other arguments without an explicit keyword will result in an error or misinterpretation.\n",
      "  warnings.warn(\n"
     ]
    },
    {
     "data": {
      "image/png": "[encoded data removed]",
      "text/plain": [
       "<Figure size 432x288 with 1 Axes>"
      ]
     },
     "metadata": {
      "needs_background": "light"
     },
     "output_type": "display_data"
    }
   ],
   "source": [
    "sns.countplot(df4['product_type'])\n",
    "plt.xticks(rotation=90);"
   ]
  },
  {
   "cell_type": "markdown",
   "id": "bc462e78",
   "metadata": {},
   "source": [
    "## fit"
   ]
  },
  {
   "cell_type": "code",
   "execution_count": 76,
   "id": "7be3ee6e",
   "metadata": {},
   "outputs": [
    {
     "data": {
      "text/plain": [
       "0     relaxed_fit\n",
       "6      skinny_fit\n",
       "21       slim_fit\n",
       "74    regular_fit\n",
       "Name: fit, dtype: object"
      ]
     },
     "execution_count": 76,
     "metadata": {},
     "output_type": "execute_result"
    }
   ],
   "source": [
    "df4['fit'].drop_duplicates()"
   ]
  },
  {
   "cell_type": "code",
   "execution_count": 79,
   "id": "b18e852b",
   "metadata": {},
   "outputs": [
    {
     "name": "stderr",
     "output_type": "stream",
     "text": [
      "C:\\Users\\Utilizador\\anaconda3\\lib\\site-packages\\seaborn\\_decorators.py:36: FutureWarning: Pass the following variable as a keyword arg: x. From version 0.12, the only valid positional argument will be `data`, and passing other arguments without an explicit keyword will result in an error or misinterpretation.\n",
      "  warnings.warn(\n"
     ]
    },
    {
     "data": {
      "image/png": "[encoded data removed]",
      "text/plain": [
       "<Figure size 432x288 with 1 Axes>"
      ]
     },
     "metadata": {
      "needs_background": "light"
     },
     "output_type": "display_data"
    }
   ],
   "source": [
    "sns.countplot(df4['fit'])\n",
    "plt.xticks(rotation=90);"
   ]
  },
  {
   "cell_type": "markdown",
   "id": "aad2b6b7",
   "metadata": {},
   "source": [
    "## 4.2 Análise Bivariada"
   ]
  },
  {
   "cell_type": "code",
   "execution_count": null,
   "id": "2a1e4342",
   "metadata": {},
   "outputs": [],
   "source": []
  },
  {
   "cell_type": "code",
   "execution_count": null,
   "id": "fa3bb6d5",
   "metadata": {},
   "outputs": [],
   "source": []
  },
  {
   "cell_type": "code",
   "execution_count": null,
   "id": "070c21c6",
   "metadata": {},
   "outputs": [],
   "source": []
  }
 ],
 "metadata": {
  "kernelspec": {
   "display_name": "Python 3 (ipykernel)",
   "language": "python",
   "name": "python3"
  },
  "language_info": {
   "codemirror_mode": {
    "name": "ipython",
    "version": 3
   },
   "file_extension": ".py",
   "mimetype": "text/x-python",
   "name": "python",
   "nbconvert_exporter": "python",
   "pygments_lexer": "ipython3",
   "version": "3.9.7"
  }
 },
 "nbformat": 4,
 "nbformat_minor": 5
}
